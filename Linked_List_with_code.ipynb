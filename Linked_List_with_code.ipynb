{
  "cells": [
    {
      "cell_type": "markdown",
      "id": "e402fa10",
      "metadata": {
        "id": "e402fa10"
      },
      "source": [
        "<center><h1>LINKED LIST</h1></center>\n",
        "\n",
        "A linked list is a linear data structure, in which the elements are not stored at contiguous memory locations.\n",
        "\n",
        "<img src=\"https://media.geeksforgeeks.org/wp-content/cdn-uploads/gq/2013/03/Linkedlist.png\" />\n",
        "\n",
        "Types of Linked Lists:\n",
        "- <b>Singly Linked List</b>\n",
        "- <b>Circular Linked List</b>: Circular linked list is a linked list where all nodes are connected to form a circle. There is no NULL at the end. A circular linked list can be a singly circular linked list or doubly circular linked list.\n",
        "- <b>Doubly Linked List</b>: A Doubly Linked List (DLL) contains an extra pointer, typically called previous pointer, together with next pointer and data which are there in singly linked list."
      ]
    },
    {
      "cell_type": "markdown",
      "source": [
        "## **`WATCH ALL VIDEOS IN THE PORTAL`**"
      ],
      "metadata": {
        "id": "hmtQwyK3BA73"
      },
      "id": "hmtQwyK3BA73"
    },
    {
      "cell_type": "markdown",
      "source": [
        "### **`Watch Linked List Introduction`**"
      ],
      "metadata": {
        "id": "1xZpy6PKBHDe"
      },
      "id": "1xZpy6PKBHDe"
    },
    {
      "cell_type": "code",
      "execution_count": 9,
      "id": "37ff6799",
      "metadata": {
        "id": "37ff6799"
      },
      "outputs": [],
      "source": [
        "class Node:\n",
        "    def __init__(self, val):\n",
        "        self.val = val\n",
        "        self.next = None"
      ]
    },
    {
      "cell_type": "code",
      "execution_count": 10,
      "id": "f02428e6",
      "metadata": {
        "id": "f02428e6"
      },
      "outputs": [],
      "source": [
        "# helper functions\n",
        "\n",
        "def create_input(elements):\n",
        "    head = Node(elements[0])\n",
        "    temp = head\n",
        "    for num in elements[1:]:\n",
        "        temp.next = Node(num)\n",
        "        temp = temp.next\n",
        "    return head\n",
        "\n",
        "def print_linked_list(head):\n",
        "    temp = head\n",
        "    while temp:\n",
        "        print(temp.val, end=\" \")\n",
        "        temp = temp.next\n",
        "    print()\n",
        "\n",
        "def create_cycle(head, a, b):\n",
        "    count_a = 0\n",
        "    count_b = 0\n",
        "    p1 = head\n",
        "    p2 = head\n",
        "    while count_a!=a and count_b!=b:\n",
        "        if count_a!=a:\n",
        "            p1 = p1.next\n",
        "            count_a+=1\n",
        "        if count_b!=b:\n",
        "            p2 = p2.next\n",
        "            count_b+=1\n",
        "\n",
        "    p2.next = p1\n",
        "    return head\n",
        "\n",
        "def input_helper(head, val):\n",
        "    temp = head\n",
        "    while temp:\n",
        "        if temp.val == val:\n",
        "            return temp\n",
        "        temp = temp.next\n",
        "    return temp"
      ]
    },
    {
      "cell_type": "markdown",
      "id": "7a6029ca",
      "metadata": {
        "id": "7a6029ca"
      },
      "source": [
        "## Solved Problems"
      ]
    },
    {
      "cell_type": "markdown",
      "id": "aa4d34ca",
      "metadata": {
        "id": "aa4d34ca"
      },
      "source": [
        "### Problem 1\n",
        "\n",
        "Given the head of a singly linked list, write a program to reverse the linked list, and return the head pointer to the reversed list.\n",
        "\n",
        "<b>Input:</b>\n",
        "head = [3,6,8,10]<br/>\n",
        "This means the given linked list is 3->6->8->10 with head pointer at node 3.\n",
        "\n",
        "<b>Output</b>: [10,6,8,3]<br/>\n",
        "This means, after reversal, the list should be 10->6->8->3 with the head pointer at node 10."
      ]
    },
    {
      "cell_type": "markdown",
      "source": [
        "### **`Solved Problem 1: Reverse Singly Linked list`**"
      ],
      "metadata": {
        "id": "ypT9ttH7BclU"
      },
      "id": "ypT9ttH7BclU"
    },
    {
      "cell_type": "code",
      "execution_count": 11,
      "id": "f221c1a3",
      "metadata": {
        "id": "f221c1a3"
      },
      "outputs": [],
      "source": [
        "def reverse_linked_list(head):\n",
        "\n",
        "    # initialize prev and current nodes\n",
        "    prev = None\n",
        "    current = head\n",
        "\n",
        "    # while the current node is not None\n",
        "    while current != None:\n",
        "\n",
        "        # store the next node\n",
        "        nex = current.next\n",
        "        # store the prev node as next for current\n",
        "        current.next = prev\n",
        "        # make the current as prev\n",
        "        prev = current\n",
        "\n",
        "        # make current as next node\n",
        "        current = nex\n",
        "\n",
        "    # return prev\n",
        "    return prev\n"
      ]
    },
    {
      "cell_type": "code",
      "execution_count": 12,
      "id": "e26d9de7",
      "metadata": {
        "id": "e26d9de7",
        "outputId": "95b14d2e-e36e-4589-a58f-4e09879836d9",
        "colab": {
          "base_uri": "https://localhost:8080/"
        }
      },
      "outputs": [
        {
          "output_type": "stream",
          "name": "stdout",
          "text": [
            "Input:\n",
            "3 6 8 10 \n",
            "Output:\n",
            "10 8 6 3 \n"
          ]
        }
      ],
      "source": [
        "# instantiate create_input with values [3,6,8,10]\n",
        "head =create_input([3,6,8,10])\n",
        "print(f\"Input:\")\n",
        "\n",
        "# call print_linked_list and pass head into it\n",
        "print_linked_list(head)\n",
        "\n",
        "# instantiate reverse_linked_list and pass head into it\n",
        "new_head =reverse_linked_list(head)\n",
        "print(f\"Output:\")\n",
        "\n",
        "# call print_linked_list and pass new head into it\n",
        "print_linked_list(new_head)\n",
        "\n",
        "\n"
      ]
    },
    {
      "cell_type": "code",
      "execution_count": 13,
      "id": "54dd05b4",
      "metadata": {
        "id": "54dd05b4",
        "outputId": "ef02729d-fcf1-4c28-82fd-a2bb2000213a",
        "colab": {
          "base_uri": "https://localhost:8080/"
        }
      },
      "outputs": [
        {
          "output_type": "stream",
          "name": "stdout",
          "text": [
            "Input:\n",
            "10 6 8 3 \n",
            "Output:\n",
            "3 8 6 10 \n"
          ]
        }
      ],
      "source": [
        "# instantiate create_input with values [10, 6, 8, 3]\n",
        "head = create_input([10, 6, 8, 3])\n",
        "print(f\"Input:\")\n",
        "\n",
        "# call print_linked_list and pass head into it\n",
        "print_linked_list(head)\n",
        "\n",
        "# instantiate reverse_linked_list and pass head into it\n",
        "new_head =reverse_linked_list(head)\n",
        "print(f\"Output:\")\n",
        "\n",
        "# call print_linked_list and pass new head into it\n",
        "print_linked_list(new_head)\n"
      ]
    },
    {
      "cell_type": "markdown",
      "id": "c0092d4b",
      "metadata": {
        "id": "c0092d4b"
      },
      "source": [
        "### Problem 2\n",
        "\n",
        "Given the head of a singly linked list, return the middle node of the linked list. If there are two middle nodes, return the second middle node.\n",
        "\n",
        "<b>Input:</b> head = [1,2,3,4,5,6]<br/>\n",
        "<b>Output:</b> [4,5,6]"
      ]
    },
    {
      "cell_type": "markdown",
      "source": [
        "### **`Solved Problem 2: Middle Node`**"
      ],
      "metadata": {
        "id": "4XdvwAaWBl0c"
      },
      "id": "4XdvwAaWBl0c"
    },
    {
      "cell_type": "code",
      "execution_count": 14,
      "id": "0f4367f8",
      "metadata": {
        "id": "0f4367f8"
      },
      "outputs": [],
      "source": [
        "def get_middle(head):\n",
        "\n",
        "    # initialize slow and fast pointers to head\n",
        "    slow = head\n",
        "    fast = head\n",
        "\n",
        "    # while fast and fast.next as present\n",
        "    # move slow by one step and fast by two steps\n",
        "    while fast != None and fast.next != None:\n",
        "        slow = slow.next\n",
        "        fast = fast.next.next\n",
        "\n",
        "    # return slow\n",
        "    return slow\n"
      ]
    },
    {
      "cell_type": "code",
      "execution_count": 15,
      "id": "48060007",
      "metadata": {
        "id": "48060007",
        "outputId": "db71212c-9d24-4684-95bc-0113585a12c5",
        "colab": {
          "base_uri": "https://localhost:8080/"
        }
      },
      "outputs": [
        {
          "output_type": "stream",
          "name": "stdout",
          "text": [
            "Input:\n",
            "1 2 3 4 5 6 \n",
            "Output:\n",
            "4 5 6 \n"
          ]
        }
      ],
      "source": [
        "#  instantiate create_input with values [1,2,3,4,5,6]\n",
        "head = create_input([1,2,3,4,5,6])\n",
        "print(\"Input:\")\n",
        "\n",
        "# call print_linked_list and pass head into it\n",
        "\n",
        "print_linked_list(head)\n",
        "\n",
        "# instantiate get_middle and pass head into it\n",
        "new_head = get_middle(head)\n",
        "print(\"Output:\")\n",
        "\n",
        "# call print_linked_list and pass new head into it\n",
        "print_linked_list(new_head)\n",
        "\n"
      ]
    },
    {
      "cell_type": "code",
      "execution_count": 16,
      "id": "7e56a302",
      "metadata": {
        "id": "7e56a302",
        "outputId": "fc5c1729-cae7-4d9b-d61a-4b30737b16c8",
        "colab": {
          "base_uri": "https://localhost:8080/"
        }
      },
      "outputs": [
        {
          "output_type": "stream",
          "name": "stdout",
          "text": [
            "Input:\n",
            "1 2 3 4 5 \n",
            "Output:\n",
            "3 4 5 \n"
          ]
        }
      ],
      "source": [
        "#  instantiate create_input with values [1,2,3,4,5]\n",
        "head = create_input([1,2,3,4,5])\n",
        "print(\"Input:\")\n",
        "\n",
        "# call print_linked_list and pass head into it\n",
        "print_linked_list(head)\n",
        "\n",
        "# instantiate get_middle and pass head into it\n",
        "new_head = get_middle(head)\n",
        "print(\"Output:\")\n",
        "\n",
        "# call print_linked_list and pass new head into it\n",
        "print_linked_list(new_head)\n"
      ]
    },
    {
      "cell_type": "markdown",
      "id": "dbba1b76",
      "metadata": {
        "id": "dbba1b76"
      },
      "source": [
        "### Problem 3\n",
        "\n",
        "Write a function to delete a node in a singly-linked list. You will not be given access to the head of the list instead, you will be given access to the node to be deleted directly. It is guaranteed that the node to be deleted is not a tail node in the list.\n",
        "\n",
        "<b>Input:</b><br/>\n",
        " Linked list: [1,4,2,3]<br/>\n",
        "       Node = 2<br/>\n",
        "<b>Output:</b>\n",
        "Linked list: [1,4,3]<br/>\n",
        "Explanation: Access is given to node 2. After deleting nodes, the linked list will be modified to [1,4,3].\n",
        "\n",
        "<b>Input:</b><br/>\n",
        " Linked list: [1,2,3,4]<br/>\n",
        "       Node = 1<br/>\n",
        "<b>Output:</b> Linked list: [2,3,4]<br/>\n",
        "Explanation:\n",
        " Access is given to node 1. After deleting nodes, the linked list will be modified to [2,3,4]."
      ]
    },
    {
      "cell_type": "markdown",
      "source": [
        "### **`Solved Problem 3: Deleting Node`**"
      ],
      "metadata": {
        "id": "ojIO5Cq8BrAJ"
      },
      "id": "ojIO5Cq8BrAJ"
    },
    {
      "cell_type": "code",
      "execution_count": 17,
      "id": "b263ad17",
      "metadata": {
        "id": "b263ad17"
      },
      "outputs": [],
      "source": [
        "def delete_node(node):\n",
        "    # make the node value as its next node value\n",
        "    node.val = node.next.val\n",
        "\n",
        "    # make the node next as node's next's next\n",
        "    node.next = node.next.next\n"
      ]
    },
    {
      "cell_type": "code",
      "execution_count": 18,
      "id": "68696974",
      "metadata": {
        "id": "68696974",
        "outputId": "6505b0bb-8445-4b09-8569-8d7689035348",
        "colab": {
          "base_uri": "https://localhost:8080/"
        }
      },
      "outputs": [
        {
          "output_type": "stream",
          "name": "stdout",
          "text": [
            "1 4 2 3 \n",
            "Input:\n",
            "1 4 2 3 \n",
            "Output:\n",
            "1 4 3 \n"
          ]
        }
      ],
      "source": [
        "#  instantiate create_input with values [1,4,2,3]\n",
        "head = create_input([1,4,2,3])\n",
        "node = input_helper(head,2)\n",
        "\n",
        "# call print linked list and pass head\n",
        "print_linked_list(head)\n",
        "\n",
        "# instantiate input_helper and pass head and 2 as parameters\n",
        "node = input_helper(head,2)\n",
        "print(\"Input:\")\n",
        "\n",
        "# call print linked list and pass head\n",
        "print_linked_list(head)\n",
        "\n",
        "# call delete node and pass node\n",
        "delete_node(node)\n",
        "\n",
        "print(\"Output:\")\n",
        "\n",
        "# call print linked list and pass head\n",
        "print_linked_list(head)\n"
      ]
    },
    {
      "cell_type": "code",
      "execution_count": 19,
      "id": "a28c4bb2",
      "metadata": {
        "id": "a28c4bb2",
        "outputId": "71f23a87-6bb9-400f-a5d5-f038980375f1",
        "colab": {
          "base_uri": "https://localhost:8080/"
        }
      },
      "outputs": [
        {
          "output_type": "stream",
          "name": "stdout",
          "text": [
            "1 2 3 4 \n",
            "Input:\n",
            "1 2 3 4 \n",
            "Output:\n",
            "2 3 4 \n"
          ]
        }
      ],
      "source": [
        "#  instantiate create_input with values [1,2,3,4]\n",
        "head =create_input([1,2,3,4])\n",
        "\n",
        "\n",
        "# call print linked list and pass head\n",
        "print_linked_list(head)\n",
        "\n",
        "\n",
        "# instantiate input_helper and pass head and 1 as parameters\n",
        "node = input_helper(head,1)\n",
        "print(\"Input:\")\n",
        "\n",
        "# call print linked list and pass head\n",
        "print_linked_list(head)\n",
        "\n",
        "# call delete node and pass node\n",
        "delete_node(node)\n",
        "print(\"Output:\")\n",
        "\n",
        "# call print linked list and pass head\n",
        "print_linked_list(head)\n",
        "\n"
      ]
    },
    {
      "cell_type": "markdown",
      "id": "56072f9d",
      "metadata": {
        "id": "56072f9d"
      },
      "source": [
        "### Problem 4\n",
        "\n",
        "Given the heads of two non-empty linked lists representing two non-negative integers. The digits are stored in reverse order, and each of their nodes contains a single digit. Add the two numbers and return the sum as a linked list.\n",
        "\n",
        "\n",
        "<b>Input:</b><br/>\n",
        "num1  = 342, num2 = 465<br/>\n",
        "l1 = [2,4,3]<br/>\n",
        "l2 = [5,6,4]<br/>\n",
        "\n",
        "<b>Output:</b> sum = 807; L = [7,0,8]<br/>\n",
        "Explanation: Since the digits are stored in reverse order, reverse the numbers first to get the or                                                original number and then add them as → 342 + 465 = 807."
      ]
    },
    {
      "cell_type": "markdown",
      "source": [
        "### **`Solved Problem 4: Sum of 2 number`**"
      ],
      "metadata": {
        "id": "9X_zUtkkBzE8"
      },
      "id": "9X_zUtkkBzE8"
    },
    {
      "cell_type": "code",
      "execution_count": 22,
      "id": "f582102e",
      "metadata": {
        "id": "f582102e"
      },
      "outputs": [],
      "source": [
        "def add_nums(head1, head2):\n",
        "\n",
        "    # initialize a dummy, temp and carry\n",
        "    dummy = Node(-1)\n",
        "    temp = dummy\n",
        "    carry = 0 ## inital carry is zero\n",
        "\n",
        "    # while head1 or head2 or carry is present\n",
        "    while head1 !=None or head2 !=None or carry != 0:\n",
        "\n",
        "        # initialize a sum variable to 0\n",
        "        sum= 0\n",
        "\n",
        "        # if head1 is present add the head's val to the sum\n",
        "        if head1 != None:\n",
        "            sum+=head1.val\n",
        "            head1 = head1.next  # shift head1 to next\n",
        "\n",
        "\n",
        "        # if head2 is present add the head's val to the sum\n",
        "        if head2 != None:\n",
        "            sum+=head2.val\n",
        "            head2 = head2.next  # shift head2 to next\n",
        "\n",
        "        # add carry to the sum\n",
        "        sum+=carry\n",
        "\n",
        "        # calculating the carry\n",
        "        carry = sum//10  # here we do integer calculation\n",
        "\n",
        "        # regenerating the sum value\n",
        "        sum = sum%10\n",
        "\n",
        "        # create new node with node val as sum\n",
        "        node = Node(sum)\n",
        "\n",
        "        # store the new node in temp next\n",
        "        temp.next = node\n",
        "\n",
        "        # move the temp to its next node\n",
        "        temp = temp.next\n",
        "\n",
        "    # return dummy's next\n",
        "    return dummy.next\n"
      ]
    },
    {
      "cell_type": "code",
      "execution_count": 23,
      "id": "4e731140",
      "metadata": {
        "id": "4e731140",
        "colab": {
          "base_uri": "https://localhost:8080/"
        },
        "outputId": "a700fca6-6813-49a6-c1ec-5596d3dd487a"
      },
      "outputs": [
        {
          "output_type": "stream",
          "name": "stdout",
          "text": [
            "7 0 8 \n"
          ]
        }
      ],
      "source": [
        "head1 = create_input([2,4,3])\n",
        "head2 = create_input([5,6,4])\n",
        "new_head = add_nums(head1, head2)\n",
        "print_linked_list(new_head)"
      ]
    },
    {
      "cell_type": "markdown",
      "id": "f8887f77",
      "metadata": {
        "id": "f8887f77"
      },
      "source": [
        "### Problem 5\n",
        "\n",
        "Given head, the head of a linked list, determine if the linked list has a cycle in it. There is a cycle in a linked list if there is some node in the list that can be reached again by continuously following the next pointer.\n",
        "\n",
        "Return true if there is a cycle in the linked list. Otherwise, return false.\n",
        "\n",
        "<b>Input:</b><br/>\n",
        " Head = [1,2,3,4]<br/>\n",
        "<b>Output:</b><br/>\n",
        " True<br/>\n",
        "Explanation: Here, we can see that we can reach node at position 1 again by following the next pointer. Thus, we return true for this case.\n",
        "<img src=\"https://i.ibb.co/R7x3Xt2/cycle-linked-list.png\" alt=\"cycle-linked-list\" border=\"0\">"
      ]
    },
    {
      "cell_type": "markdown",
      "source": [
        "### **`Solved Problem 5: Cyclic Linkedlist`**"
      ],
      "metadata": {
        "id": "iOciC4GcB6dJ"
      },
      "id": "iOciC4GcB6dJ"
    },
    {
      "cell_type": "code",
      "execution_count": 27,
      "id": "850b987b",
      "metadata": {
        "id": "850b987b"
      },
      "outputs": [],
      "source": [
        "def detect_cycle(head):\n",
        "\n",
        "    # base case, is head is not present return False\n",
        "    if head == None:\n",
        "        return False\n",
        "\n",
        "    # initialize two pointers slow and fast to head\n",
        "    slow = head\n",
        "    fast = new_head\n",
        "\n",
        "    # while fast's next and fast's next's next is present\n",
        "    # move slow by one step and fast by two steps\n",
        "    # if slow==fast return True\n",
        "    while fast != None and fast.next != None:\n",
        "        slow = slow.next\n",
        "        fast = fast.next.next\n",
        "        if slow == fast:\n",
        "            return True\n",
        "\n",
        "    # return false\n",
        "    return False\n"
      ]
    },
    {
      "cell_type": "code",
      "execution_count": 28,
      "id": "108e96c1",
      "metadata": {
        "id": "108e96c1",
        "colab": {
          "base_uri": "https://localhost:8080/"
        },
        "outputId": "4c523333-04cf-46e3-c056-3622a7a62c75"
      },
      "outputs": [
        {
          "output_type": "stream",
          "name": "stdout",
          "text": [
            "False\n"
          ]
        }
      ],
      "source": [
        "head = create_input([1,2,3,4])\n",
        "head = create_cycle(head, 1, 3)\n",
        "print(detect_cycle(head))"
      ]
    },
    {
      "cell_type": "code",
      "execution_count": 29,
      "id": "5c1eb408",
      "metadata": {
        "id": "5c1eb408",
        "colab": {
          "base_uri": "https://localhost:8080/"
        },
        "outputId": "b544eab1-e62d-44b6-b956-8272bdea4d3f"
      },
      "outputs": [
        {
          "output_type": "stream",
          "name": "stdout",
          "text": [
            "False\n"
          ]
        }
      ],
      "source": [
        "head = create_input([1,2,3,4])\n",
        "print(detect_cycle(head))"
      ]
    },
    {
      "cell_type": "markdown",
      "id": "43ce4cfb",
      "metadata": {
        "id": "43ce4cfb"
      },
      "source": [
        "## Practice Problems"
      ]
    },
    {
      "cell_type": "markdown",
      "id": "38377bad",
      "metadata": {
        "id": "38377bad"
      },
      "source": [
        "### Practice Problem 1\n",
        "\n",
        "Given a linked list, and a number N. Find the Nth node from the end of this linked list and delete it. Return the head of the new modified linked list.\n",
        "\n",
        "<b>Input:</b> head = [1,2,3,4,5], n = 2<br/>\n",
        "<b>Output:</b> [1,2,3,5]"
      ]
    },
    {
      "cell_type": "code",
      "execution_count": 30,
      "id": "3f5e4683",
      "metadata": {
        "id": "3f5e4683"
      },
      "outputs": [],
      "source": [
        "def remove_nth_node_from_end(head, n):\n",
        "    start = Node(-1)\n",
        "    start.next = head\n",
        "    slow,fast = start,start\n",
        "\n",
        "    for i in range(n):\n",
        "        fast = fast.next   ## move fast by n steps\n",
        "\n",
        "    while fast.next == None:\n",
        "        slow = slow.next\n",
        "        fast = fast.next\n",
        "\n",
        "    slow.next = slow.next.next\n",
        "    return start.next\n",
        "\n",
        "\n",
        "\n"
      ]
    },
    {
      "cell_type": "code",
      "execution_count": 31,
      "id": "806b8d2a",
      "metadata": {
        "id": "806b8d2a",
        "colab": {
          "base_uri": "https://localhost:8080/"
        },
        "outputId": "3fa14038-cc3e-4214-edae-5fc832d800a4"
      },
      "outputs": [
        {
          "output_type": "stream",
          "name": "stdout",
          "text": [
            "Input:\n",
            "1 2 3 4 5 \n",
            "Output:\n",
            "1 2 3 4 5 \n"
          ]
        }
      ],
      "source": [
        "head = create_input([1,2,3,4,5])\n",
        "print(\"Input:\")\n",
        "print_linked_list(head)\n",
        "print(\"Output:\")\n",
        "new_head = remove_nth_node_from_end(head, 2)\n",
        "print_linked_list(head)"
      ]
    },
    {
      "cell_type": "markdown",
      "id": "798b904c",
      "metadata": {
        "id": "798b904c"
      },
      "source": [
        "### Practice problem 2\n",
        "\n",
        "Given the head of a singly linked list, return true if it is a palindrome.\n",
        "\n",
        "<b>Input:</b> head = [1,2,3,3,2,1] <br/>\n",
        "<b>Output:</b> True"
      ]
    },
    {
      "cell_type": "code",
      "execution_count": 34,
      "id": "8bf69333",
      "metadata": {
        "id": "8bf69333"
      },
      "outputs": [],
      "source": [
        "def reverse(head):\n",
        "    prev = None\n",
        "\n",
        "    while head != None:\n",
        "        nex = head.next\n",
        "        head.next = prev\n",
        "        prev = head\n",
        "        head =nex\n",
        "    return prev\n",
        "\n",
        "def isPallindrome(head):\n",
        "\n",
        "    if head == None or head.next == None:   ## case of one node or no node\n",
        "      return True\n",
        "\n",
        "    # middle node of the linked list .\n",
        "    slow = head\n",
        "    fast = head\n",
        "\n",
        "    while fast.next != None and fast.next.next != None:\n",
        "              slow = slow.next\n",
        "              fast = fast.next.next\n",
        "    # reverse the right half\n",
        "    slow.next = reverse(slow.next)\n",
        "    slow = slow.next\n",
        "    dummy = head\n",
        "\n",
        "    # check whether left half equal to right half\n",
        "\n",
        "    while slow != None:\n",
        "      if dummy.val != slow.val:\n",
        "            return False\n",
        "      dummy = dummy.next\n",
        "      slow = slow.next\n",
        "    return True\n",
        "\n"
      ]
    },
    {
      "cell_type": "code",
      "execution_count": 35,
      "id": "6f24db43",
      "metadata": {
        "id": "6f24db43",
        "colab": {
          "base_uri": "https://localhost:8080/"
        },
        "outputId": "464324c9-700d-4862-b716-0e9089a9b53f"
      },
      "outputs": [
        {
          "output_type": "stream",
          "name": "stdout",
          "text": [
            "True\n"
          ]
        }
      ],
      "source": [
        "head = create_input([1,2,3,3,2,1])\n",
        "print(isPallindrome(head))"
      ]
    },
    {
      "cell_type": "code",
      "execution_count": 36,
      "id": "7a3efa86",
      "metadata": {
        "id": "7a3efa86",
        "colab": {
          "base_uri": "https://localhost:8080/"
        },
        "outputId": "944efaa9-a189-4d57-f16c-33cedf19f0fa"
      },
      "outputs": [
        {
          "output_type": "stream",
          "name": "stdout",
          "text": [
            "False\n"
          ]
        }
      ],
      "source": [
        "head = create_input([1,2,3])\n",
        "print(isPallindrome(head))"
      ]
    },
    {
      "cell_type": "markdown",
      "id": "19b32a01",
      "metadata": {
        "id": "19b32a01"
      },
      "source": [
        "### Practice Problem 3\n",
        "\n",
        "Given the head of a linked list, return the node where the cycle begins. If there is no cycle, return null.\n",
        "\n",
        "<b>Input:</b> head = [1,2,3,4,3,6,10]<br/>\n",
        "<b>Output:</b> 3\n",
        "<img src=\"https://i.ibb.co/Mp3fqCZ/detect-head-cycle-linked-list.png\" alt=\"detect-head-cycle-linked-list\" border=\"0\">\n"
      ]
    },
    {
      "cell_type": "code",
      "execution_count": 37,
      "id": "41cf53e0",
      "metadata": {
        "id": "41cf53e0"
      },
      "outputs": [],
      "source": [
        "def get_starting_point(head):\n",
        "\n",
        "    slow = head\n",
        "    fast = head\n",
        "\n",
        "    while fast != None and fast.next != None:\n",
        "        slow = slow.next\n",
        "        fast = fast.next.next\n",
        "        if slow == fast:\n",
        "            fast = head\n",
        "            while slow != fast:\n",
        "                slow = slow.next\n",
        "                fast = fast.next\n",
        "            return slow\n",
        "    return None\n",
        "\n"
      ]
    },
    {
      "cell_type": "code",
      "execution_count": 38,
      "id": "25842949",
      "metadata": {
        "id": "25842949",
        "colab": {
          "base_uri": "https://localhost:8080/"
        },
        "outputId": "30817a3d-b0a8-4178-a0bd-8d3e827a40a2"
      },
      "outputs": [
        {
          "output_type": "stream",
          "name": "stdout",
          "text": [
            "3\n"
          ]
        }
      ],
      "source": [
        "head = create_input([1,2,3,4,3,6,10])\n",
        "head = create_cycle(head, 2, 6)\n",
        "node = get_starting_point(head)\n",
        "if node:\n",
        "    print(node.val)\n",
        "else:\n",
        "    print(None)"
      ]
    },
    {
      "cell_type": "code",
      "execution_count": 39,
      "id": "2252cc4d",
      "metadata": {
        "id": "2252cc4d",
        "colab": {
          "base_uri": "https://localhost:8080/"
        },
        "outputId": "985aaba2-40e2-483c-ceb2-0e56d05bdf21"
      },
      "outputs": [
        {
          "output_type": "stream",
          "name": "stdout",
          "text": [
            "None\n"
          ]
        }
      ],
      "source": [
        "head = create_input([1,2,3,4,3,6,10])\n",
        "node = get_starting_point(head)\n",
        "if node:\n",
        "    print(node.val)\n",
        "else:\n",
        "    print(None)"
      ]
    },
    {
      "cell_type": "markdown",
      "id": "fbde813a",
      "metadata": {
        "id": "fbde813a"
      },
      "source": [
        "<center><h1>THANK YOU</h1></center>"
      ]
    }
  ],
  "metadata": {
    "kernelspec": {
      "display_name": "Python 3 (ipykernel)",
      "language": "python",
      "name": "python3"
    },
    "language_info": {
      "codemirror_mode": {
        "name": "ipython",
        "version": 3
      },
      "file_extension": ".py",
      "mimetype": "text/x-python",
      "name": "python",
      "nbconvert_exporter": "python",
      "pygments_lexer": "ipython3",
      "version": "3.9.12"
    },
    "colab": {
      "provenance": []
    }
  },
  "nbformat": 4,
  "nbformat_minor": 5
}